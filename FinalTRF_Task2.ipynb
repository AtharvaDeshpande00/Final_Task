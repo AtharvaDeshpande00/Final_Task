{
  "nbformat": 4,
  "nbformat_minor": 0,
  "metadata": {
    "kernelspec": {
      "display_name": "Python 3",
      "language": "python",
      "name": "python3"
    },
    "language_info": {
      "name": "python",
      "version": "3.6.4",
      "mimetype": "text/x-python",
      "codemirror_mode": {
        "name": "ipython",
        "version": 3
      },
      "pygments_lexer": "ipython3",
      "nbconvert_exporter": "python",
      "file_extension": ".py"
    },
    "colab": {
      "name": "FinalTRF_Task2.ipynb",
      "provenance": [],
      "collapsed_sections": []
    }
  },
  "cells": [
    {
      "cell_type": "code",
      "metadata": {
        "_uuid": "8f2839f25d086af736a60e9eeb907d3b93b6e0e5",
        "_cell_guid": "b1076dfc-b9ad-4769-8c92-a6c4dae69d19",
        "trusted": true,
        "id": "i93dDCqpQ42P",
        "colab_type": "code",
        "colab": {}
      },
      "source": [
        "# This Python 3 environment comes with many helpful analytics libraries installed\n",
        "# It is defined by the kaggle/python docker image: https://github.com/kaggle/docker-python\n",
        "# For example, here's several helpful packages to load in \n",
        "\n",
        "import numpy as np # linear algebra\n",
        "import pandas as pd # data processing, CSV file I/O (e.g. pd.read_csv)\n",
        "\n",
        "# Input data files are available in the \"../input/\" directory.\n",
        "# For example, running this (by clicking run or pressing Shift+Enter) will list the files in the input directory\n",
        "\n",
        "import os\n",
        "import json\n",
        "\n",
        "# Any results you write to the current directory are saved as output."
      ],
      "execution_count": null,
      "outputs": []
    },
    {
      "cell_type": "code",
      "metadata": {
        "_cell_guid": "79c7e3d0-c299-4dcb-8224-4455121ee9b0",
        "_uuid": "d629ff2d2480ee46fbb7e2d37f6b5fab8052498a",
        "trusted": true,
        "id": "UNJbRFHnQ42W",
        "colab_type": "code",
        "colab": {}
      },
      "source": [
        "import pandas as pd\n",
        "import numpy as np\n",
        "from matplotlib import pyplot as plt\n",
        "%matplotlib inline"
      ],
      "execution_count": null,
      "outputs": []
    },
    {
      "cell_type": "code",
      "metadata": {
        "trusted": true,
        "_uuid": "51829e42bfc588513484bb94e0125c851bf74080",
        "id": "GxaFHu_vQ42a",
        "colab_type": "code",
        "colab": {}
      },
      "source": [
        "token = {\"username\":\"atharvakarwande12\",\"key\":\"92640a5728711f097a9282a14af7e7dc\"}\n",
        "with open('/content/kaggle.json', 'w') as file:\n",
        "    json.dump(token, file)"
      ],
      "execution_count": null,
      "outputs": []
    },
    {
      "cell_type": "code",
      "metadata": {
        "id": "B68-588LRABy",
        "colab_type": "code",
        "colab": {
          "base_uri": "https://localhost:8080/",
          "height": 101
        },
        "outputId": "01618180-83dc-440c-e646-e3f816b90861"
      },
      "source": [
        "# Install Kaggle library\n",
        "!pip install -q kaggle\n",
        "!mkdir ~/.kaggle\n",
        "!cp /content/kaggle.json ~/.kaggle/kaggle.json\n",
        "!kaggle datasets download -d deadskull7/fer2013"
      ],
      "execution_count": null,
      "outputs": [
        {
          "output_type": "stream",
          "text": [
            "mkdir: cannot create directory ‘/root/.kaggle’: File exists\n",
            "Warning: Your Kaggle API key is readable by other users on this system! To fix this, you can run 'chmod 600 /root/.kaggle/kaggle.json'\n",
            "Downloading fer2013.zip to /content\n",
            " 92% 89.0M/96.6M [00:00<00:00, 66.3MB/s]\n",
            "100% 96.6M/96.6M [00:00<00:00, 105MB/s] \n"
          ],
          "name": "stdout"
        }
      ]
    },
    {
      "cell_type": "code",
      "metadata": {
        "id": "kV4t3XWoRDne",
        "colab_type": "code",
        "colab": {}
      },
      "source": [
        "from shutil import unpack_archive\n",
        "unpack_archive('fer2013.zip', '/content')"
      ],
      "execution_count": null,
      "outputs": []
    },
    {
      "cell_type": "code",
      "metadata": {
        "trusted": true,
        "_uuid": "a727fd2a75cf582c22a6cc79651cf0f601fb8687",
        "id": "Je8IIvD1Q42d",
        "colab_type": "code",
        "colab": {
          "base_uri": "https://localhost:8080/",
          "height": 34
        },
        "outputId": "94bb32cd-43f2-4acf-aae9-4c714ac7db66"
      },
      "source": [
        "x = pd.read_csv('fer2013.csv')\n",
        "print (x.values.shape)"
      ],
      "execution_count": null,
      "outputs": [
        {
          "output_type": "stream",
          "text": [
            "(35887, 3)\n"
          ],
          "name": "stdout"
        }
      ]
    },
    {
      "cell_type": "code",
      "metadata": {
        "trusted": true,
        "_uuid": "7336e46ea554033481f7d03c155c8b8c956bde7c",
        "id": "-x4p5q6oQ42h",
        "colab_type": "code",
        "colab": {
          "base_uri": "https://localhost:8080/",
          "height": 195
        },
        "outputId": "1a5aeea9-94ca-4032-fa72-6942539b3826"
      },
      "source": [
        "x.head()"
      ],
      "execution_count": null,
      "outputs": [
        {
          "output_type": "execute_result",
          "data": {
            "text/html": [
              "<div>\n",
              "<style scoped>\n",
              "    .dataframe tbody tr th:only-of-type {\n",
              "        vertical-align: middle;\n",
              "    }\n",
              "\n",
              "    .dataframe tbody tr th {\n",
              "        vertical-align: top;\n",
              "    }\n",
              "\n",
              "    .dataframe thead th {\n",
              "        text-align: right;\n",
              "    }\n",
              "</style>\n",
              "<table border=\"1\" class=\"dataframe\">\n",
              "  <thead>\n",
              "    <tr style=\"text-align: right;\">\n",
              "      <th></th>\n",
              "      <th>emotion</th>\n",
              "      <th>pixels</th>\n",
              "      <th>Usage</th>\n",
              "    </tr>\n",
              "  </thead>\n",
              "  <tbody>\n",
              "    <tr>\n",
              "      <th>0</th>\n",
              "      <td>0</td>\n",
              "      <td>70 80 82 72 58 58 60 63 54 58 60 48 89 115 121...</td>\n",
              "      <td>Training</td>\n",
              "    </tr>\n",
              "    <tr>\n",
              "      <th>1</th>\n",
              "      <td>0</td>\n",
              "      <td>151 150 147 155 148 133 111 140 170 174 182 15...</td>\n",
              "      <td>Training</td>\n",
              "    </tr>\n",
              "    <tr>\n",
              "      <th>2</th>\n",
              "      <td>2</td>\n",
              "      <td>231 212 156 164 174 138 161 173 182 200 106 38...</td>\n",
              "      <td>Training</td>\n",
              "    </tr>\n",
              "    <tr>\n",
              "      <th>3</th>\n",
              "      <td>4</td>\n",
              "      <td>24 32 36 30 32 23 19 20 30 41 21 22 32 34 21 1...</td>\n",
              "      <td>Training</td>\n",
              "    </tr>\n",
              "    <tr>\n",
              "      <th>4</th>\n",
              "      <td>6</td>\n",
              "      <td>4 0 0 0 0 0 0 0 0 0 0 0 3 15 23 28 48 50 58 84...</td>\n",
              "      <td>Training</td>\n",
              "    </tr>\n",
              "  </tbody>\n",
              "</table>\n",
              "</div>"
            ],
            "text/plain": [
              "   emotion                                             pixels     Usage\n",
              "0        0  70 80 82 72 58 58 60 63 54 58 60 48 89 115 121...  Training\n",
              "1        0  151 150 147 155 148 133 111 140 170 174 182 15...  Training\n",
              "2        2  231 212 156 164 174 138 161 173 182 200 106 38...  Training\n",
              "3        4  24 32 36 30 32 23 19 20 30 41 21 22 32 34 21 1...  Training\n",
              "4        6  4 0 0 0 0 0 0 0 0 0 0 0 3 15 23 28 48 50 58 84...  Training"
            ]
          },
          "metadata": {
            "tags": []
          },
          "execution_count": 12
        }
      ]
    },
    {
      "cell_type": "code",
      "metadata": {
        "trusted": true,
        "_uuid": "6e9c36ef5d4629c3caaa2451cc44e9d3a96b1fff",
        "id": "I2P_yWQ3Q42k",
        "colab_type": "code",
        "colab": {
          "base_uri": "https://localhost:8080/",
          "height": 50
        },
        "outputId": "5597ea1f-4ae2-484e-c6a0-2c9005d7b4c3"
      },
      "source": [
        "data = x.values\n",
        "print (data.shape)\n",
        "print (data[0, 0])"
      ],
      "execution_count": null,
      "outputs": [
        {
          "output_type": "stream",
          "text": [
            "(35887, 3)\n",
            "0\n"
          ],
          "name": "stdout"
        }
      ]
    },
    {
      "cell_type": "code",
      "metadata": {
        "trusted": true,
        "_uuid": "e095238a0b8a38be233dc9563d838e832071571d",
        "id": "QqCxT75FQ42n",
        "colab_type": "code",
        "colab": {
          "base_uri": "https://localhost:8080/",
          "height": 67
        },
        "outputId": "85c4bdec-c4bb-491d-f513-034917241df6"
      },
      "source": [
        "y = data[:, 0]\n",
        "pixels = data[:, 1]\n",
        "print (type(pixels))\n",
        "print (len(pixels[0]))\n",
        "print (pixels[10][10])"
      ],
      "execution_count": null,
      "outputs": [
        {
          "output_type": "stream",
          "text": [
            "<class 'numpy.ndarray'>\n",
            "8287\n",
            "3\n"
          ],
          "name": "stdout"
        }
      ]
    },
    {
      "cell_type": "code",
      "metadata": {
        "trusted": true,
        "_uuid": "f6c9b685d00875a0636ba88797f880b49b26fc55",
        "id": "Bvv-iEAfQ42r",
        "colab_type": "code",
        "colab": {}
      },
      "source": [
        "X = np.zeros((pixels.shape[0], 48*48))\n",
        "\n",
        "for ix in range(X.shape[0]):\n",
        "    p = pixels[ix].split(' ')\n",
        "    for iy in range(X.shape[1]):\n",
        "        X[ix, iy] = int(p[iy])"
      ],
      "execution_count": null,
      "outputs": []
    },
    {
      "cell_type": "code",
      "metadata": {
        "trusted": true,
        "_uuid": "902603aa9e1ddf242a7c25a5878399ebc4700ff6",
        "id": "E8XyIELeQ42v",
        "colab_type": "code",
        "colab": {}
      },
      "source": [
        "import numpy as np\n",
        "from matplotlib import pyplot as plt\n",
        "%matplotlib inline\n",
        "import os\n",
        "from keras.layers import Dense, Convolution2D, UpSampling2D, MaxPooling2D, ZeroPadding2D, Flatten, Dropout, Reshape\n",
        "from keras.models import Sequential\n",
        "from keras.utils import np_utils"
      ],
      "execution_count": null,
      "outputs": []
    },
    {
      "cell_type": "code",
      "metadata": {
        "trusted": true,
        "_uuid": "0eedfdf291db37449763cb8c7a2b67c5ebd1cfd7",
        "id": "z_eLdd4eQ42y",
        "colab_type": "code",
        "colab": {
          "base_uri": "https://localhost:8080/",
          "height": 134
        },
        "outputId": "2a0cb2e0-e33e-4026-cda2-16368f280d9d"
      },
      "source": [
        "X"
      ],
      "execution_count": null,
      "outputs": [
        {
          "output_type": "execute_result",
          "data": {
            "text/plain": [
              "array([[ 70.,  80.,  82., ..., 106., 109.,  82.],\n",
              "       [151., 150., 147., ..., 193., 183., 184.],\n",
              "       [231., 212., 156., ...,  88., 110., 152.],\n",
              "       ...,\n",
              "       [ 17.,  17.,  16., ..., 154., 133., 113.],\n",
              "       [ 30.,  28.,  28., ...,  35.,  30.,  28.],\n",
              "       [ 19.,  13.,  14., ..., 189., 199., 201.]])"
            ]
          },
          "metadata": {
            "tags": []
          },
          "execution_count": 17
        }
      ]
    },
    {
      "cell_type": "code",
      "metadata": {
        "trusted": true,
        "_uuid": "3458bc83b34a29eb51b4de60af561251a00dcb80",
        "id": "2H9Yg1N4Q421",
        "colab_type": "code",
        "colab": {
          "base_uri": "https://localhost:8080/",
          "height": 34
        },
        "outputId": "2fff74b8-724f-4122-de21-825e0105aca4"
      },
      "source": [
        "y"
      ],
      "execution_count": null,
      "outputs": [
        {
          "output_type": "execute_result",
          "data": {
            "text/plain": [
              "array([0, 0, 2, ..., 0, 3, 2], dtype=object)"
            ]
          },
          "metadata": {
            "tags": []
          },
          "execution_count": 18
        }
      ]
    },
    {
      "cell_type": "code",
      "metadata": {
        "trusted": true,
        "_uuid": "8706c2c5ddee2b4348b3a38396f2b0ee27f83e6b",
        "id": "NKO0agkLQ424",
        "colab_type": "code",
        "colab": {}
      },
      "source": [
        "x = X"
      ],
      "execution_count": null,
      "outputs": []
    },
    {
      "cell_type": "code",
      "metadata": {
        "trusted": true,
        "_uuid": "2f25df828a394d05e250808ee02dd2730ef4f839",
        "id": "9bVfoTQnQ428",
        "colab_type": "code",
        "colab": {
          "base_uri": "https://localhost:8080/",
          "height": 1000
        },
        "outputId": "ee58a0df-4499-4dd2-a5d9-2d3ae0af143c"
      },
      "source": [
        "for ix in range(4):\n",
        "    plt.figure(ix)\n",
        "    plt.imshow(x[ix].reshape((48, 48)), interpolation='none', cmap='gray')\n",
        "plt.show()"
      ],
      "execution_count": null,
      "outputs": [
        {
          "output_type": "display_data",
          "data": {
            "image/png": "[encoded data removed]",
            "text/plain": [
              "<Figure size 432x288 with 1 Axes>"
            ]
          },
          "metadata": {
            "tags": [],
            "needs_background": "light"
          }
        },
        {
          "output_type": "display_data",
          "data": {
            "image/png": "[encoded data removed]",
            "text/plain": [
              "<Figure size 432x288 with 1 Axes>"
            ]
          },
          "metadata": {
            "tags": [],
            "needs_background": "light"
          }
        },
        {
          "output_type": "display_data",
          "data": {
            "image/png": "[encoded data removed]",
            "text/plain": [
              "<Figure size 432x288 with 1 Axes>"
            ]
          },
          "metadata": {
            "tags": [],
            "needs_background": "light"
          }
        },
        {
          "output_type": "display_data",
          "data": {
            "image/png": "[encoded data removed]",
            "text/plain": [
              "<Figure size 432x288 with 1 Axes>"
            ]
          },
          "metadata": {
            "tags": [],
            "needs_background": "light"
          }
        }
      ]
    },
    {
      "cell_type": "code",
      "metadata": {
        "trusted": true,
        "_uuid": "96e08423c9201fa99bac1ef3d23ef4ccb93bfdec",
        "id": "pjmBqZIlQ42_",
        "colab_type": "code",
        "colab": {}
      },
      "source": [
        "x = x / 255"
      ],
      "execution_count": null,
      "outputs": []
    },
    {
      "cell_type": "code",
      "metadata": {
        "trusted": true,
        "_uuid": "7402563984fb4b1a4c6cb2d24673d4bc54fcc4a0",
        "id": "y5-cNyx9Q43C",
        "colab_type": "code",
        "colab": {
          "base_uri": "https://localhost:8080/",
          "height": 235
        },
        "outputId": "8711cebe-c7de-4569-8fb3-d9d4e942b792"
      },
      "source": [
        "x"
      ],
      "execution_count": null,
      "outputs": [
        {
          "output_type": "execute_result",
          "data": {
            "text/plain": [
              "array([[0.2745098 , 0.31372549, 0.32156863, ..., 0.41568627, 0.42745098,\n",
              "        0.32156863],\n",
              "       [0.59215686, 0.58823529, 0.57647059, ..., 0.75686275, 0.71764706,\n",
              "        0.72156863],\n",
              "       [0.90588235, 0.83137255, 0.61176471, ..., 0.34509804, 0.43137255,\n",
              "        0.59607843],\n",
              "       ...,\n",
              "       [0.06666667, 0.06666667, 0.0627451 , ..., 0.60392157, 0.52156863,\n",
              "        0.44313725],\n",
              "       [0.11764706, 0.10980392, 0.10980392, ..., 0.1372549 , 0.11764706,\n",
              "        0.10980392],\n",
              "       [0.0745098 , 0.05098039, 0.05490196, ..., 0.74117647, 0.78039216,\n",
              "        0.78823529]])"
            ]
          },
          "metadata": {
            "tags": []
          },
          "execution_count": 22
        }
      ]
    },
    {
      "cell_type": "code",
      "metadata": {
        "trusted": true,
        "_uuid": "4632dd6c1e3f40ce95f472079311f086edabb1d0",
        "id": "zzvjS6A8Q43F",
        "colab_type": "code",
        "colab": {
          "base_uri": "https://localhost:8080/",
          "height": 50
        },
        "outputId": "31f0a13f-a913-419d-d68e-385823e6abb3"
      },
      "source": [
        "X_train = x[0:28710, :]\n",
        "Y_train = y[0:28710]\n",
        "print (X_train.shape, Y_train.shape)\n",
        "X_crossval = x[28710:32300, :]\n",
        "Y_crossval = y[28710:32300]\n",
        "print (X_crossval.shape, Y_crossval.shape)"
      ],
      "execution_count": null,
      "outputs": [
        {
          "output_type": "stream",
          "text": [
            "(28710, 2304) (28710,)\n",
            "(3590, 2304) (3590,)\n"
          ],
          "name": "stdout"
        }
      ]
    },
    {
      "cell_type": "code",
      "metadata": {
        "trusted": true,
        "_uuid": "9ff5880c16b551f79966bc403bb4adc288af7f5a",
        "id": "_OgiK3sbQ43I",
        "colab_type": "code",
        "colab": {}
      },
      "source": [
        "X_train = X_train.reshape((X_train.shape[0], 48, 48,1 ))\n",
        "X_crossval = X_crossval.reshape((X_crossval.shape[0],48, 48,1))"
      ],
      "execution_count": null,
      "outputs": []
    },
    {
      "cell_type": "code",
      "metadata": {
        "trusted": true,
        "_uuid": "8d7b1380bb530f4201fd2e4cf415ac6eaf24076d",
        "id": "kQ5REgm0Q43M",
        "colab_type": "code",
        "colab": {
          "base_uri": "https://localhost:8080/",
          "height": 34
        },
        "outputId": "dc7bf505-6388-4b0a-f957-14ee83ea1d28"
      },
      "source": [
        "X_train.shape"
      ],
      "execution_count": null,
      "outputs": [
        {
          "output_type": "execute_result",
          "data": {
            "text/plain": [
              "(28710, 48, 48, 1)"
            ]
          },
          "metadata": {
            "tags": []
          },
          "execution_count": 36
        }
      ]
    },
    {
      "cell_type": "code",
      "metadata": {
        "trusted": true,
        "_uuid": "bce316ac1ebe38fbcfe203a5d6b95fcc984a192f",
        "id": "GfsweykzQ43P",
        "colab_type": "code",
        "colab": {
          "base_uri": "https://localhost:8080/",
          "height": 50
        },
        "outputId": "9c36a734-3556-45eb-b5c9-9f3e63ca8090"
      },
      "source": [
        "print (y.shape)\n",
        "y_ = np_utils.to_categorical(y, 7)\n",
        "print (y_.shape)"
      ],
      "execution_count": null,
      "outputs": [
        {
          "output_type": "stream",
          "text": [
            "(35887,)\n",
            "(35887, 7)\n"
          ],
          "name": "stdout"
        }
      ]
    },
    {
      "cell_type": "code",
      "metadata": {
        "trusted": true,
        "_uuid": "212aeffd545b671f27668e75b0c4bef266cfc8b1",
        "id": "u49jQppmQ43S",
        "colab_type": "code",
        "colab": {
          "base_uri": "https://localhost:8080/",
          "height": 34
        },
        "outputId": "10a8950a-b797-4530-cc44-f2047276625b"
      },
      "source": [
        "Y_train = y_[:28710]\n",
        "Y_crossval = y_[28710:32300]\n",
        "print (X_crossval.shape, Y_crossval.shape)"
      ],
      "execution_count": null,
      "outputs": [
        {
          "output_type": "stream",
          "text": [
            "(3590, 48, 48, 1) (3590, 7)\n"
          ],
          "name": "stdout"
        }
      ]
    },
    {
      "cell_type": "code",
      "metadata": {
        "trusted": true,
        "_uuid": "42ae3b6c63e1db3653272af8c234043065d194c5",
        "id": "nBii-kjKQ43V",
        "colab_type": "code",
        "colab": {}
      },
      "source": [
        "from keras.preprocessing.image import ImageDataGenerator\n",
        "\n",
        "datagen = ImageDataGenerator(\n",
        "        featurewise_center=False,  \n",
        "        samplewise_center=False,  \n",
        "        featurewise_std_normalization=False,  \n",
        "        samplewise_std_normalization=False,  \n",
        "        zca_whitening=False,  \n",
        "        rotation_range=10,  \n",
        "        zoom_range = 0.0,  \n",
        "        width_shift_range=0.1,  \n",
        "        height_shift_range=0.1,  \n",
        "        horizontal_flip=True, \n",
        "        vertical_flip=True)  \n",
        "\n",
        "datagen.fit(X_train)"
      ],
      "execution_count": null,
      "outputs": []
    },
    {
      "cell_type": "code",
      "metadata": {
        "id": "1OrgjZjiRr8e",
        "colab_type": "code",
        "colab": {
          "base_uri": "https://localhost:8080/",
          "height": 34
        },
        "outputId": "9bddb536-6b89-41fa-845d-d11d9b14a17e"
      },
      "source": [
        "from google.colab import drive\n",
        "drive.mount('/content/drive')"
      ],
      "execution_count": null,
      "outputs": [
        {
          "output_type": "stream",
          "text": [
            "Drive already mounted at /content/drive; to attempt to forcibly remount, call drive.mount(\"/content/drive\", force_remount=True).\n"
          ],
          "name": "stdout"
        }
      ]
    },
    {
      "cell_type": "code",
      "metadata": {
        "trusted": true,
        "_uuid": "2ea388617dd08d9a5cf15c8cf8ea27ac3354913f",
        "id": "ZvTdgDYVQ43e",
        "colab_type": "code",
        "colab": {}
      },
      "source": [
        "from keras.layers import Dense , Activation\n",
        "from keras.layers import Dropout\n",
        "from keras.layers import Flatten\n",
        "from keras.constraints import maxnorm\n",
        "from keras.optimizers import SGD , Adam\n",
        "from keras.layers import Conv2D , BatchNormalization\n",
        "from keras.layers import MaxPooling2D\n",
        "from keras.utils import np_utils\n",
        "from keras import backend as K\n",
        "import keras\n",
        "from keras import callbacks"
      ],
      "execution_count": null,
      "outputs": []
    },
    {
      "cell_type": "code",
      "metadata": {
        "trusted": true,
        "_uuid": "0ff40c69ba64a1a1b94814623036e4db2d720927",
        "id": "MlnX8MPeQ43h",
        "colab_type": "code",
        "colab": {
          "base_uri": "https://localhost:8080/",
          "height": 806
        },
        "outputId": "2bc328e3-e353-4433-9418-eb35121e63f2"
      },
      "source": [
        "model = Sequential()\n",
        "\n",
        "model.add(Conv2D(32, (3, 3), activation='relu', padding=\"same\", input_shape=(48,48,1)))\n",
        "model.add(Conv2D(32, (3, 3), padding=\"same\", activation='relu'))\n",
        "model.add(MaxPooling2D(pool_size=(2, 2)))\n",
        "model.add(BatchNormalization())\n",
        "model.add(Conv2D(64, (3, 3), activation='relu', padding=\"same\"))\n",
        "model.add(Conv2D(64, (3, 3), padding=\"same\", activation='relu'))\n",
        "model.add(MaxPooling2D(pool_size=(2, 2)))\n",
        "model.add(BatchNormalization())\n",
        "model.add(Conv2D(96, (3, 3),  activation='relu', padding=\"same\"))\n",
        "model.add(Conv2D(96, (3, 3), padding=\"valid\", activation='relu'))\n",
        "model.add(MaxPooling2D(pool_size=(2, 2)))\n",
        "model.add(BatchNormalization())\n",
        "model.add(Conv2D(128, (3, 3), activation='relu', padding=\"same\"))\n",
        "model.add(Conv2D(128, (3, 3), padding=\"valid\", activation='relu'))\n",
        "model.add(MaxPooling2D(pool_size=(2, 2)))\n",
        "model.add(BatchNormalization())\n",
        "model.add(Flatten())\n",
        "model.add(Dropout(0.2))\n",
        "model.add(Dense(7 , activation='sigmoid'))\n",
        "\n",
        "model.compile(loss='binary_crossentropy',\n",
        "              optimizer='adam' ,\n",
        "              metrics=['accuracy'])\n",
        "\n",
        "print(model.summary())"
      ],
      "execution_count": null,
      "outputs": [
        {
          "output_type": "stream",
          "text": [
            "Model: \"sequential_9\"\n",
            "_________________________________________________________________\n",
            "Layer (type)                 Output Shape              Param #   \n",
            "=================================================================\n",
            "conv2d_66 (Conv2D)           (None, 48, 48, 32)        320       \n",
            "_________________________________________________________________\n",
            "conv2d_67 (Conv2D)           (None, 48, 48, 32)        9248      \n",
            "_________________________________________________________________\n",
            "max_pooling2d_33 (MaxPooling (None, 24, 24, 32)        0         \n",
            "_________________________________________________________________\n",
            "batch_normalization_8 (Batch (None, 24, 24, 32)        128       \n",
            "_________________________________________________________________\n",
            "conv2d_68 (Conv2D)           (None, 24, 24, 64)        18496     \n",
            "_________________________________________________________________\n",
            "conv2d_69 (Conv2D)           (None, 24, 24, 64)        36928     \n",
            "_________________________________________________________________\n",
            "max_pooling2d_34 (MaxPooling (None, 12, 12, 64)        0         \n",
            "_________________________________________________________________\n",
            "batch_normalization_9 (Batch (None, 12, 12, 64)        256       \n",
            "_________________________________________________________________\n",
            "conv2d_70 (Conv2D)           (None, 12, 12, 96)        55392     \n",
            "_________________________________________________________________\n",
            "conv2d_71 (Conv2D)           (None, 10, 10, 96)        83040     \n",
            "_________________________________________________________________\n",
            "max_pooling2d_35 (MaxPooling (None, 5, 5, 96)          0         \n",
            "_________________________________________________________________\n",
            "batch_normalization_10 (Batc (None, 5, 5, 96)          384       \n",
            "_________________________________________________________________\n",
            "conv2d_72 (Conv2D)           (None, 5, 5, 128)         110720    \n",
            "_________________________________________________________________\n",
            "conv2d_73 (Conv2D)           (None, 3, 3, 128)         147584    \n",
            "_________________________________________________________________\n",
            "max_pooling2d_36 (MaxPooling (None, 1, 1, 128)         0         \n",
            "_________________________________________________________________\n",
            "batch_normalization_11 (Batc (None, 1, 1, 128)         512       \n",
            "_________________________________________________________________\n",
            "flatten_8 (Flatten)          (None, 128)               0         \n",
            "_________________________________________________________________\n",
            "dropout_6 (Dropout)          (None, 128)               0         \n",
            "_________________________________________________________________\n",
            "dense_12 (Dense)             (None, 7)                 903       \n",
            "=================================================================\n",
            "Total params: 463,911\n",
            "Trainable params: 463,271\n",
            "Non-trainable params: 640\n",
            "_________________________________________________________________\n",
            "None\n"
          ],
          "name": "stdout"
        }
      ]
    },
    {
      "cell_type": "code",
      "metadata": {
        "trusted": true,
        "_uuid": "70686811aaad2242e90ee912196307c47678420e",
        "id": "wL50S4L4Q43k",
        "colab_type": "code",
        "colab": {}
      },
      "source": [
        "batch_size = 64\n",
        "epochs = 20\n",
        "\n",
        "model.compile(loss='binary_crossentropy', optimizer='adam' , metrics=['accuracy'])\n",
        "steps_per_epoch = len(X) // batch_size\n",
        "validation_steps = len((X_crossval, Y_crossval)) // batch_size"
      ],
      "execution_count": null,
      "outputs": []
    },
    {
      "cell_type": "code",
      "metadata": {
        "trusted": true,
        "scrolled": true,
        "_uuid": "14d69c974400d8297b117095cab6dccd06f21e72",
        "id": "ui7t6iIcQ43p",
        "colab_type": "code",
        "colab": {
          "base_uri": "https://localhost:8080/",
          "height": 689
        },
        "outputId": "f6f48135-90e7-4922-e6e9-862aca566e92"
      },
      "source": [
        "history = model.fit_generator(datagen.flow(X_train, Y_train, batch_size=batch_size),\n",
        "                    steps_per_epoch=X_train.shape[0] // batch_size,\n",
        "                    callbacks=[callbacks.ModelCheckpoint(os.path.join('/content/drive/My Drive/NEW_TRF_TASK1','epoch_{epoch:02d}acc{val_accuracy:.4f}.h5'),monitor='val_accuracy', save_weights_only=False, save_best_only=False) ],\n",
        "                    validation_data=(X_crossval, Y_crossval),\n",
        "                    epochs = epochs, verbose = 1)"
      ],
      "execution_count": null,
      "outputs": [
        {
          "output_type": "stream",
          "text": [
            "Epoch 1/20\n",
            "448/448 [==============================] - 436s 973ms/step - loss: 0.4704 - accuracy: 0.2321 - val_loss: 0.3936 - val_accuracy: 0.2577\n",
            "Epoch 2/20\n",
            "448/448 [==============================] - 442s 986ms/step - loss: 0.3665 - accuracy: 0.3510 - val_loss: 0.3682 - val_accuracy: 0.2925\n",
            "Epoch 3/20\n",
            "448/448 [==============================] - 433s 966ms/step - loss: 0.3187 - accuracy: 0.4569 - val_loss: 0.3077 - val_accuracy: 0.4719\n",
            "Epoch 4/20\n",
            "448/448 [==============================] - 435s 970ms/step - loss: 0.2976 - accuracy: 0.4988 - val_loss: 0.3092 - val_accuracy: 0.4741\n",
            "Epoch 5/20\n",
            "448/448 [==============================] - 434s 969ms/step - loss: 0.2862 - accuracy: 0.5247 - val_loss: 0.2955 - val_accuracy: 0.5006\n",
            "Epoch 6/20\n",
            "448/448 [==============================] - 434s 969ms/step - loss: 0.2765 - accuracy: 0.5422 - val_loss: 0.2739 - val_accuracy: 0.5387\n",
            "Epoch 7/20\n",
            "448/448 [==============================] - 435s 970ms/step - loss: 0.2707 - accuracy: 0.5553 - val_loss: 0.2964 - val_accuracy: 0.5086\n",
            "Epoch 8/20\n",
            "448/448 [==============================] - 441s 984ms/step - loss: 0.2642 - accuracy: 0.5651 - val_loss: 0.2893 - val_accuracy: 0.5162\n",
            "Epoch 9/20\n",
            "448/448 [==============================] - 434s 968ms/step - loss: 0.2614 - accuracy: 0.5680 - val_loss: 0.2597 - val_accuracy: 0.5735\n",
            "Epoch 10/20\n",
            "448/448 [==============================] - 438s 977ms/step - loss: 0.2561 - accuracy: 0.5824 - val_loss: 0.2697 - val_accuracy: 0.5524\n",
            "Epoch 11/20\n",
            "448/448 [==============================] - 439s 981ms/step - loss: 0.2527 - accuracy: 0.5874 - val_loss: 0.2623 - val_accuracy: 0.5699\n",
            "Epoch 12/20\n",
            "448/448 [==============================] - 437s 974ms/step - loss: 0.2498 - accuracy: 0.5916 - val_loss: 0.2684 - val_accuracy: 0.5546\n",
            "Epoch 13/20\n",
            "448/448 [==============================] - 436s 973ms/step - loss: 0.2464 - accuracy: 0.5992 - val_loss: 0.2592 - val_accuracy: 0.5719\n",
            "Epoch 14/20\n",
            "448/448 [==============================] - 439s 980ms/step - loss: 0.2456 - accuracy: 0.6009 - val_loss: 0.2579 - val_accuracy: 0.5763\n",
            "Epoch 15/20\n",
            "448/448 [==============================] - 446s 995ms/step - loss: 0.2431 - accuracy: 0.6086 - val_loss: 0.2559 - val_accuracy: 0.5791\n",
            "Epoch 16/20\n",
            "448/448 [==============================] - 437s 976ms/step - loss: 0.2402 - accuracy: 0.6122 - val_loss: 0.2637 - val_accuracy: 0.5708\n",
            "Epoch 17/20\n",
            "448/448 [==============================] - 438s 977ms/step - loss: 0.2382 - accuracy: 0.6165 - val_loss: 0.2495 - val_accuracy: 0.5989\n",
            "Epoch 18/20\n",
            "448/448 [==============================] - 443s 989ms/step - loss: 0.2354 - accuracy: 0.6218 - val_loss: 0.2586 - val_accuracy: 0.5799\n",
            "Epoch 19/20\n",
            "448/448 [==============================] - 443s 989ms/step - loss: 0.2347 - accuracy: 0.6252 - val_loss: 0.2761 - val_accuracy: 0.5513\n",
            "Epoch 20/20\n",
            "448/448 [==============================] - 437s 976ms/step - loss: 0.2325 - accuracy: 0.6275 - val_loss: 0.2487 - val_accuracy: 0.5930\n"
          ],
          "name": "stdout"
        }
      ]
    },
    {
      "cell_type": "code",
      "metadata": {
        "trusted": true,
        "_uuid": "999514652260cb325c996011b5d85f96efecd660",
        "id": "4W3vDaOBQ43t",
        "colab_type": "code",
        "colab": {}
      },
      "source": [
        "weights = model.get_weights()"
      ],
      "execution_count": null,
      "outputs": []
    },
    {
      "cell_type": "code",
      "metadata": {
        "trusted": true,
        "_uuid": "1b17b95eb1c4737600919a3f5ba7b1ae4099b613",
        "id": "HJ0AVK5wQ43w",
        "colab_type": "code",
        "colab": {}
      },
      "source": [
        "np.save('my_model_weights', weights)"
      ],
      "execution_count": null,
      "outputs": []
    },
    {
      "cell_type": "code",
      "metadata": {
        "trusted": true,
        "_uuid": "ae1be1a46aec0d5b18088a5fa4a62cdce6ec315c",
        "id": "MLYwLB5qQ430",
        "colab_type": "code",
        "colab": {
          "base_uri": "https://localhost:8080/",
          "height": 573
        },
        "outputId": "32fe195b-8b5d-42be-9a04-0821ab4afcaa"
      },
      "source": [
        "plt.plot(history.history['accuracy'])\n",
        "plt.plot(history.history['val_accuracy'])\n",
        "plt.title('model accuracy')\n",
        "plt.ylabel('accuracy')\n",
        "plt.xlabel('epoch')\n",
        "plt.legend(['train', 'test'], loc='upper left')\n",
        "plt.savefig('/content/drive/My Drive/NEW_TRF_TASK1/Accuracy.png')\n",
        "plt.show()\n",
        "# summarize history for loss\n",
        "plt.plot(history.history['loss'])\n",
        "plt.plot(history.history['val_loss'])\n",
        "plt.title('model loss')\n",
        "plt.ylabel('loss')\n",
        "plt.xlabel('epoch')\n",
        "plt.legend(['train', 'test'], loc='upper left')\n",
        "plt.savefig('/content/drive/My Drive/NEW_TRF_TASK1/Losses.png')\n",
        "plt.show()"
      ],
      "execution_count": null,
      "outputs": [
        {
          "output_type": "display_data",
          "data": {
            "image/png": "[encoded data removed]",
            "text/plain": [
              "<Figure size 432x288 with 1 Axes>"
            ]
          },
          "metadata": {
            "tags": [],
            "needs_background": "light"
          }
        },
        {
          "output_type": "display_data",
          "data": {
            "image/png": "[encoded data removed]",
            "text/plain": [
              "<Figure size 432x288 with 1 Axes>"
            ]
          },
          "metadata": {
            "tags": [],
            "needs_background": "light"
          }
        }
      ]
    },
    {
      "cell_type": "code",
      "metadata": {
        "trusted": true,
        "_uuid": "35005d2009307cb410dbf0dae35ce58ac5583ab7",
        "id": "p0Zgpu7LQ432",
        "colab_type": "code",
        "colab": {}
      },
      "source": [
        ""
      ],
      "execution_count": null,
      "outputs": []
    },
    {
      "cell_type": "code",
      "metadata": {
        "trusted": true,
        "_uuid": "b8066455164b70723e34f1d595e53cf0d89de156",
        "id": "H_Ti6-vmQ436",
        "colab_type": "code",
        "colab": {}
      },
      "source": [
        ""
      ],
      "execution_count": null,
      "outputs": []
    },
    {
      "cell_type": "code",
      "metadata": {
        "trusted": true,
        "_uuid": "5e2123b4474b9dd6ea4fe5b7b0789b8915da2bc2",
        "id": "LDMtzcO7Q439",
        "colab_type": "code",
        "colab": {}
      },
      "source": [
        ""
      ],
      "execution_count": null,
      "outputs": []
    }
  ]
}