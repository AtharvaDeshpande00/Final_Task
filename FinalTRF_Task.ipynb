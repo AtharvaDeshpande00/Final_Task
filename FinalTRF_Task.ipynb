{
  "nbformat": 4,
  "nbformat_minor": 0,
  "metadata": {
    "kernelspec": {
      "display_name": "Python 3",
      "language": "python",
      "name": "python3"
    },
    "language_info": {
      "codemirror_mode": {
        "name": "ipython",
        "version": 3
      },
      "file_extension": ".py",
      "mimetype": "text/x-python",
      "name": "python",
      "nbconvert_exporter": "python",
      "pygments_lexer": "ipython3",
      "version": "3.7.0"
    },
    "colab": {
      "name": "FinalTRF Task.ipynb",
      "provenance": [],
      "collapsed_sections": [],
      "toc_visible": true
    }
  },
  "cells": [
    {
      "cell_type": "markdown",
      "metadata": {
        "id": "avK0_4vS3uPy",
        "colab_type": "text"
      },
      "source": [
        "## Data PreProcessing"
      ]
    },
    {
      "cell_type": "code",
      "metadata": {
        "id": "FSaiylda378J",
        "colab_type": "code",
        "colab": {}
      },
      "source": [
        "import json\n",
        "import os"
      ],
      "execution_count": null,
      "outputs": []
    },
    {
      "cell_type": "code",
      "metadata": {
        "id": "6L18R56j4Vaw",
        "colab_type": "code",
        "colab": {
          "base_uri": "https://localhost:8080/",
          "height": 121
        },
        "outputId": "a7068066-2a2c-43ab-c583-824fdc64de45"
      },
      "source": [
        "from google.colab import drive\n",
        "drive.mount('/content/drive')"
      ],
      "execution_count": null,
      "outputs": [
        {
          "output_type": "stream",
          "text": [
            "Go to this URL in a browser: https://accounts.google.com/o/oauth2/auth?client_id=947318989803-6bn6qk8qdgf4n4g3pfee6491hc0brc4i.apps.googleusercontent.com&redirect_uri=urn%3aietf%3awg%3aoauth%3a2.0%3aoob&response_type=code&scope=email%20https%3a%2f%2fwww.googleapis.com%2fauth%2fdocs.test%20https%3a%2f%2fwww.googleapis.com%2fauth%2fdrive%20https%3a%2f%2fwww.googleapis.com%2fauth%2fdrive.photos.readonly%20https%3a%2f%2fwww.googleapis.com%2fauth%2fpeopleapi.readonly\n",
            "\n",
            "Enter your authorization code:\n",
            "··········\n",
            "Mounted at /content/drive\n"
          ],
          "name": "stdout"
        }
      ]
    },
    {
      "cell_type": "code",
      "metadata": {
        "id": "_BI0cvif3-k1",
        "colab_type": "code",
        "colab": {}
      },
      "source": [
        "token = {\"username\":\"atharvakarwande12\",\"key\":\"92640a5728711f097a9282a14af7e7dc\"}\n",
        "with open('/content/kaggle.json', 'w') as file:\n",
        "    json.dump(token, file)"
      ],
      "execution_count": null,
      "outputs": []
    },
    {
      "cell_type": "code",
      "metadata": {
        "id": "22I6QUUV4AZy",
        "colab_type": "code",
        "colab": {
          "base_uri": "https://localhost:8080/",
          "height": 84
        },
        "outputId": "72e86d50-3563-4eb9-ff02-57d4c3ee3102"
      },
      "source": [
        "# Install Kaggle library\n",
        "!pip install -q kaggle\n",
        "!mkdir ~/.kaggle\n",
        "!cp /content/kaggle.json ~/.kaggle/kaggle.json\n",
        "!kaggle datasets download -d deadskull7/fer2013"
      ],
      "execution_count": null,
      "outputs": [
        {
          "output_type": "stream",
          "text": [
            "Warning: Your Kaggle API key is readable by other users on this system! To fix this, you can run 'chmod 600 /root/.kaggle/kaggle.json'\n",
            "Downloading fer2013.zip to /content\n",
            " 84% 81.0M/96.6M [00:01<00:00, 51.1MB/s]\n",
            "100% 96.6M/96.6M [00:01<00:00, 74.0MB/s]\n"
          ],
          "name": "stdout"
        }
      ]
    },
    {
      "cell_type": "code",
      "metadata": {
        "id": "kKtA0yoK4Czg",
        "colab_type": "code",
        "colab": {}
      },
      "source": [
        "from shutil import unpack_archive\n",
        "unpack_archive('fer2013.zip', '/content')"
      ],
      "execution_count": null,
      "outputs": []
    },
    {
      "cell_type": "code",
      "metadata": {
        "id": "3bgF_Bv-3uPz",
        "colab_type": "code",
        "colab": {}
      },
      "source": [
        "#Importing All The Required Librarie\n",
        "\n",
        "import os                            # To perform operations like accessing flie location\n",
        "import numpy as np                   # To perfroms operation on image\n",
        "import pandas as pd                  # To handle dataset\n",
        "from matplotlib import pyplot as plt # To view Images\n",
        "%matplotlib inline"
      ],
      "execution_count": null,
      "outputs": []
    },
    {
      "cell_type": "code",
      "metadata": {
        "id": "l5JwsTgX3uP1",
        "colab_type": "code",
        "colab": {}
      },
      "source": [
        "# Reading Dataset\n",
        "Data = pd.read_csv(\"fer2013.csv\")"
      ],
      "execution_count": null,
      "outputs": []
    },
    {
      "cell_type": "code",
      "metadata": {
        "id": "gN5c6BKs3uP3",
        "colab_type": "code",
        "colab": {
          "base_uri": "https://localhost:8080/",
          "height": 136
        },
        "outputId": "573e53b5-4612-489c-d45d-53e23a98fc1c"
      },
      "source": [
        "# Viewing the fisrt 3 entries \n",
        "Data.head(3)"
      ],
      "execution_count": null,
      "outputs": [
        {
          "output_type": "execute_result",
          "data": {
            "text/html": [
              "<div>\n",
              "<style scoped>\n",
              "    .dataframe tbody tr th:only-of-type {\n",
              "        vertical-align: middle;\n",
              "    }\n",
              "\n",
              "    .dataframe tbody tr th {\n",
              "        vertical-align: top;\n",
              "    }\n",
              "\n",
              "    .dataframe thead th {\n",
              "        text-align: right;\n",
              "    }\n",
              "</style>\n",
              "<table border=\"1\" class=\"dataframe\">\n",
              "  <thead>\n",
              "    <tr style=\"text-align: right;\">\n",
              "      <th></th>\n",
              "      <th>emotion</th>\n",
              "      <th>pixels</th>\n",
              "      <th>Usage</th>\n",
              "    </tr>\n",
              "  </thead>\n",
              "  <tbody>\n",
              "    <tr>\n",
              "      <th>0</th>\n",
              "      <td>0</td>\n",
              "      <td>70 80 82 72 58 58 60 63 54 58 60 48 89 115 121...</td>\n",
              "      <td>Training</td>\n",
              "    </tr>\n",
              "    <tr>\n",
              "      <th>1</th>\n",
              "      <td>0</td>\n",
              "      <td>151 150 147 155 148 133 111 140 170 174 182 15...</td>\n",
              "      <td>Training</td>\n",
              "    </tr>\n",
              "    <tr>\n",
              "      <th>2</th>\n",
              "      <td>2</td>\n",
              "      <td>231 212 156 164 174 138 161 173 182 200 106 38...</td>\n",
              "      <td>Training</td>\n",
              "    </tr>\n",
              "  </tbody>\n",
              "</table>\n",
              "</div>"
            ],
            "text/plain": [
              "   emotion                                             pixels     Usage\n",
              "0        0  70 80 82 72 58 58 60 63 54 58 60 48 89 115 121...  Training\n",
              "1        0  151 150 147 155 148 133 111 140 170 174 182 15...  Training\n",
              "2        2  231 212 156 164 174 138 161 173 182 200 106 38...  Training"
            ]
          },
          "metadata": {
            "tags": []
          },
          "execution_count": 8
        }
      ]
    },
    {
      "cell_type": "code",
      "metadata": {
        "id": "jYO7pnbF3uP6",
        "colab_type": "code",
        "colab": {
          "base_uri": "https://localhost:8080/",
          "height": 34
        },
        "outputId": "9126ef59-28e7-464c-dfc1-b0e358a4df48"
      },
      "source": [
        "print(Data.shape)"
      ],
      "execution_count": null,
      "outputs": [
        {
          "output_type": "stream",
          "text": [
            "(35887, 3)\n"
          ],
          "name": "stdout"
        }
      ]
    },
    {
      "cell_type": "code",
      "metadata": {
        "id": "hVIuAMPs3uP8",
        "colab_type": "code",
        "colab": {
          "base_uri": "https://localhost:8080/",
          "height": 50
        },
        "outputId": "c1cb1cde-3488-41a5-e969-f67c90170298"
      },
      "source": [
        "# To convert the data to numpy\n",
        "data = Data.values\n",
        "print(data.shape)\n",
        "print(data[0, 0])"
      ],
      "execution_count": null,
      "outputs": [
        {
          "output_type": "stream",
          "text": [
            "(35887, 3)\n",
            "0\n"
          ],
          "name": "stdout"
        }
      ]
    },
    {
      "cell_type": "code",
      "metadata": {
        "id": "s6rNFAZ53uP9",
        "colab_type": "code",
        "colab": {}
      },
      "source": [
        "# Extracting the class or labels for each image\n",
        "labels = data[:, 0]"
      ],
      "execution_count": null,
      "outputs": []
    },
    {
      "cell_type": "code",
      "metadata": {
        "id": "wCWijj-t3uP_",
        "colab_type": "code",
        "colab": {
          "base_uri": "https://localhost:8080/",
          "height": 50
        },
        "outputId": "e902cfa8-89e8-4ac5-f647-a77d141ccaeb"
      },
      "source": [
        "# Extracting pixel values of each entry\n",
        "pixels = data[:,1]\n",
        "print(type(pixels))   # Verifying the type of pixels\n",
        "print(pixels.shape[0])"
      ],
      "execution_count": null,
      "outputs": [
        {
          "output_type": "stream",
          "text": [
            "<class 'numpy.ndarray'>\n",
            "35887\n"
          ],
          "name": "stdout"
        }
      ]
    },
    {
      "cell_type": "code",
      "metadata": {
        "id": "rm7XpJjO3uQC",
        "colab_type": "code",
        "colab": {
          "base_uri": "https://localhost:8080/",
          "height": 34
        },
        "outputId": "9f91e048-32e2-4f65-e72a-f16363119879"
      },
      "source": [
        "# Creating an epmty np array to store the pixel values of each image\n",
        "X = np.zeros((pixels.shape[0], 48*48))       # We are going to create a 1 channel grayscale image to accomodate only the first pixels\n",
        "print(X.shape)"
      ],
      "execution_count": null,
      "outputs": [
        {
          "output_type": "stream",
          "text": [
            "(35887, 2304)\n"
          ],
          "name": "stdout"
        }
      ]
    },
    {
      "cell_type": "code",
      "metadata": {
        "id": "ufY6n9ep3uQD",
        "colab_type": "code",
        "colab": {}
      },
      "source": [
        "for ix in range(X.shape[0]):\n",
        "    p = pixels[ix].split(' ')\n",
        "    for iy in range(X.shape[1]):\n",
        "        X[ix, iy] = int(p[iy])"
      ],
      "execution_count": null,
      "outputs": []
    },
    {
      "cell_type": "code",
      "metadata": {
        "id": "2Kba3WcR3uQF",
        "colab_type": "code",
        "colab": {
          "base_uri": "https://localhost:8080/",
          "height": 151
        },
        "outputId": "6e1b1e4b-a189-4211-bdc0-ead0a75dee92"
      },
      "source": [
        "x = X\n",
        "print(labels)\n",
        "print(x)"
      ],
      "execution_count": null,
      "outputs": [
        {
          "output_type": "stream",
          "text": [
            "[0 0 2 ... 0 3 2]\n",
            "[[ 70.  80.  82. ... 106. 109.  82.]\n",
            " [151. 150. 147. ... 193. 183. 184.]\n",
            " [231. 212. 156. ...  88. 110. 152.]\n",
            " ...\n",
            " [ 17.  17.  16. ... 154. 133. 113.]\n",
            " [ 30.  28.  28. ...  35.  30.  28.]\n",
            " [ 19.  13.  14. ... 189. 199. 201.]]\n"
          ],
          "name": "stdout"
        }
      ]
    },
    {
      "cell_type": "code",
      "metadata": {
        "id": "aOn-e1yE3uQH",
        "colab_type": "code",
        "colab": {}
      },
      "source": [
        "x=x/255"
      ],
      "execution_count": null,
      "outputs": []
    },
    {
      "cell_type": "code",
      "metadata": {
        "id": "VTUO_eBZ3uQI",
        "colab_type": "code",
        "colab": {
          "base_uri": "https://localhost:8080/",
          "height": 1000
        },
        "outputId": "f1ba5b01-e35e-4ba3-ca74-46d514bedb20"
      },
      "source": [
        "for ix in range(10):\n",
        "    plt.figure(ix)\n",
        "    plt.imshow(x[ix].reshape((48, 48)), interpolation='none', cmap='gray')\n",
        "plt.show()"
      ],
      "execution_count": null,
      "outputs": [
        {
          "output_type": "display_data",
          "data": {
            "image/png": "[encoded data removed]",
            "text/plain": [
              "<Figure size 432x288 with 1 Axes>"
            ]
          },
          "metadata": {
            "tags": [],
            "needs_background": "light"
          }
        },
        {
          "output_type": "display_data",
          "data": {
            "image/png": "[encoded data removed]",
            "text/plain": [
              "<Figure size 432x288 with 1 Axes>"
            ]
          },
          "metadata": {
            "tags": [],
            "needs_background": "light"
          }
        },
        {
          "output_type": "display_data",
          "data": {
            "image/png": "[encoded data removed]",
            "text/plain": [
              "<Figure size 432x288 with 1 Axes>"
            ]
          },
          "metadata": {
            "tags": [],
            "needs_background": "light"
          }
        },
        {
          "output_type": "display_data",
          "data": {
            "image/png": "[encoded data removed]",
            "text/plain": [
              "<Figure size 432x288 with 1 Axes>"
            ]
          },
          "metadata": {
            "tags": [],
            "needs_background": "light"
          }
        },
        {
          "output_type": "display_data",
          "data": {
            "image/png": "[encoded data removed]",
            "text/plain": [
              "<Figure size 432x288 with 1 Axes>"
            ]
          },
          "metadata": {
            "tags": [],
            "needs_background": "light"
          }
        },
        {
          "output_type": "display_data",
          "data": {
            "image/png": "[encoded data removed]",
            "text/plain": [
              "<Figure size 432x288 with 1 Axes>"
            ]
          },
          "metadata": {
            "tags": [],
            "needs_background": "light"
          }
        },
        {
          "output_type": "display_data",
          "data": {
            "image/png": "[encoded data removed]",
            "text/plain": [
              "<Figure size 432x288 with 1 Axes>"
            ]
          },
          "metadata": {
            "tags": [],
            "needs_background": "light"
          }
        },
        {
          "output_type": "display_data",
          "data": {
            "image/png": "[encoded data removed]",
            "text/plain": [
              "<Figure size 432x288 with 1 Axes>"
            ]
          },
          "metadata": {
            "tags": [],
            "needs_background": "light"
          }
        },
        {
          "output_type": "display_data",
          "data": {
            "image/png": "[encoded data removed]",
            "text/plain": [
              "<Figure size 432x288 with 1 Axes>"
            ]
          },
          "metadata": {
            "tags": [],
            "needs_background": "light"
          }
        },
        {
          "output_type": "display_data",
          "data": {
            "image/png": "[encoded data removed]",
            "text/plain": [
              "<Figure size 432x288 with 1 Axes>"
            ]
          },
          "metadata": {
            "tags": [],
            "needs_background": "light"
          }
        }
      ]
    },
    {
      "cell_type": "markdown",
      "metadata": {
        "id": "_2hBil5KJhSQ",
        "colab_type": "text"
      },
      "source": [
        "# Training Keras Model"
      ]
    },
    {
      "cell_type": "code",
      "metadata": {
        "id": "8OtnMon13uQL",
        "colab_type": "code",
        "colab": {
          "base_uri": "https://localhost:8080/",
          "height": 50
        },
        "outputId": "93f996c4-f638-47b9-aba5-e7cafcefc920"
      },
      "source": [
        "X_train = x[0:28710, :]\n",
        "Y_train = labels[0:28710]\n",
        "print (X_train.shape, Y_train.shape)\n",
        "\n",
        "X_crossval = x[28710:32300, :]\n",
        "Y_crossval = labels[28710:32300]\n",
        "print (X_crossval.shape, Y_crossval.shape)"
      ],
      "execution_count": null,
      "outputs": [
        {
          "output_type": "stream",
          "text": [
            "(28710, 2304) (28710,)\n",
            "(3590, 2304) (3590,)\n"
          ],
          "name": "stdout"
        }
      ]
    },
    {
      "cell_type": "code",
      "metadata": {
        "id": "nPpdlCCh6ThX",
        "colab_type": "code",
        "colab": {
          "base_uri": "https://localhost:8080/",
          "height": 34
        },
        "outputId": "f9598c57-02fb-4920-fb38-b852a55e37e2"
      },
      "source": [
        "X_train = X_train.reshape((X_train.shape[0], 48, 48,1))\n",
        "X_crossval = X_crossval.reshape((X_crossval.shape[0],48, 48,1))\n",
        "print(X_train.shape)"
      ],
      "execution_count": null,
      "outputs": [
        {
          "output_type": "stream",
          "text": [
            "(28710, 48, 48, 1)\n"
          ],
          "name": "stdout"
        }
      ]
    },
    {
      "cell_type": "code",
      "metadata": {
        "id": "n93GMt-Y3uQO",
        "colab_type": "code",
        "colab": {}
      },
      "source": [
        "from keras.layers import Dense, Convolution2D, UpSampling2D, MaxPooling2D, ZeroPadding2D, Flatten, Dropout, Reshape\n",
        "from keras.models import Sequential\n",
        "from keras.utils import np_utils"
      ],
      "execution_count": null,
      "outputs": []
    },
    {
      "cell_type": "code",
      "metadata": {
        "id": "S5kzwqG33uQQ",
        "colab_type": "code",
        "colab": {
          "base_uri": "https://localhost:8080/",
          "height": 50
        },
        "outputId": "b80f58a1-8f3d-4314-d890-4780f657aa25"
      },
      "source": [
        "print (labels.shape)\n",
        "y_ = np_utils.to_categorical(labels, 7)\n",
        "print (y_.shape)"
      ],
      "execution_count": null,
      "outputs": [
        {
          "output_type": "stream",
          "text": [
            "(35887,)\n",
            "(35887, 7)\n"
          ],
          "name": "stdout"
        }
      ]
    },
    {
      "cell_type": "code",
      "metadata": {
        "id": "akg0f9Qa3uQS",
        "colab_type": "code",
        "colab": {
          "base_uri": "https://localhost:8080/",
          "height": 34
        },
        "outputId": "3f4a5eb7-354c-465c-dec9-ea898f03e049"
      },
      "source": [
        "Y_train = y_[:28710]\n",
        "Y_crossval = y_[28710:32300]\n",
        "print (X_crossval.shape, Y_crossval.shape)"
      ],
      "execution_count": null,
      "outputs": [
        {
          "output_type": "stream",
          "text": [
            "(3590, 48, 48, 1) (3590, 7)\n"
          ],
          "name": "stdout"
        }
      ]
    },
    {
      "cell_type": "code",
      "metadata": {
        "id": "LBmZS37Q3uQT",
        "colab_type": "code",
        "colab": {}
      },
      "source": [
        "from keras.preprocessing.image import ImageDataGenerator\n",
        "\n",
        "datagen = ImageDataGenerator(\n",
        "        featurewise_center=False,  \n",
        "        samplewise_center=False,  \n",
        "        featurewise_std_normalization=False,  \n",
        "        samplewise_std_normalization=False,  \n",
        "        zca_whitening=False,  \n",
        "        rotation_range=0,  \n",
        "        zoom_range = 0.0,  \n",
        "        width_shift_range=0.01,  \n",
        "        height_shift_range=0.01,  \n",
        "        horizontal_flip=False, \n",
        "        vertical_flip=False)  \n",
        "\n",
        "datagen.fit(X_train)"
      ],
      "execution_count": null,
      "outputs": []
    },
    {
      "cell_type": "code",
      "metadata": {
        "id": "lKz57rhs3uQX",
        "colab_type": "code",
        "colab": {}
      },
      "source": [
        "from keras.preprocessing.image import ImageDataGenerator\n",
        "from keras.models import Model, Sequential\n",
        "from keras.optimizers import Adam\n",
        "from keras.utils import to_categorical\n",
        "from keras.layers import Dense, Dropout, Flatten, Conv2D, MaxPooling2D ,Convolution2D, Activation, SeparableConv2D, GlobalAveragePooling2D\n",
        "from keras import callbacks\n",
        "from keras.layers import BatchNormalization\n",
        "from keras.utils import np_utils\n",
        "import keras\n"
      ],
      "execution_count": null,
      "outputs": []
    },
    {
      "cell_type": "code",
      "metadata": {
        "id": "uP4oTZk53uQY",
        "colab_type": "code",
        "colab": {}
      },
      "source": [
        ""
      ],
      "execution_count": null,
      "outputs": []
    },
    {
      "cell_type": "code",
      "metadata": {
        "id": "bbIkmhuk3uQc",
        "colab_type": "code",
        "colab": {
          "base_uri": "https://localhost:8080/",
          "height": 706
        },
        "outputId": "9a2257e0-c5ca-4079-854c-4e45d2a3a025"
      },
      "source": [
        "def swish_activation(x):\n",
        "    return (keras.activations.sigmoid(x) * x)\n",
        "\n",
        "model = Sequential()\n",
        "\n",
        "model.add(Conv2D(32, (3, 3), activation='relu', padding=\"same\", input_shape=(48,48,1)))\n",
        "model.add(Conv2D(32, (3, 3), padding=\"same\", activation='relu'))\n",
        "model.add(MaxPooling2D(pool_size=(2, 2)))\n",
        "model.add(Conv2D(64, (3, 3), activation='relu', padding=\"same\"))\n",
        "model.add(Conv2D(64, (3, 3), padding=\"same\", activation='relu'))\n",
        "model.add(MaxPooling2D(pool_size=(2, 2)))\n",
        "model.add(Conv2D(96, (3, 3), dilation_rate=(2, 2), activation='relu', padding=\"same\"))\n",
        "model.add(Conv2D(96, (3, 3), padding=\"valid\", activation='relu'))\n",
        "model.add(MaxPooling2D(pool_size=(2, 2)))\n",
        "model.add(Conv2D(128, (3, 3), dilation_rate=(2, 2), activation='relu', padding=\"same\"))\n",
        "model.add(Conv2D(128, (3, 3), padding=\"valid\", activation='relu'))\n",
        "model.add(MaxPooling2D(pool_size=(2, 2)))\n",
        "model.add(Flatten())\n",
        "model.add(Dense(64, activation=swish_activation))\n",
        "model.add(Dropout(0.1))\n",
        "model.add(Dense(7 , activation='sigmoid'))\n",
        "\n",
        "model.compile(loss='binary_crossentropy',\n",
        "              optimizer='adam' ,\n",
        "              metrics=['accuracy'])\n",
        "\n",
        "print(model.summary())"
      ],
      "execution_count": null,
      "outputs": [
        {
          "output_type": "stream",
          "text": [
            "Model: \"sequential_1\"\n",
            "_________________________________________________________________\n",
            "Layer (type)                 Output Shape              Param #   \n",
            "=================================================================\n",
            "conv2d_8 (Conv2D)            (None, 48, 48, 32)        320       \n",
            "_________________________________________________________________\n",
            "conv2d_9 (Conv2D)            (None, 48, 48, 32)        9248      \n",
            "_________________________________________________________________\n",
            "max_pooling2d_4 (MaxPooling2 (None, 24, 24, 32)        0         \n",
            "_________________________________________________________________\n",
            "conv2d_10 (Conv2D)           (None, 24, 24, 64)        18496     \n",
            "_________________________________________________________________\n",
            "conv2d_11 (Conv2D)           (None, 24, 24, 64)        36928     \n",
            "_________________________________________________________________\n",
            "max_pooling2d_5 (MaxPooling2 (None, 12, 12, 64)        0         \n",
            "_________________________________________________________________\n",
            "conv2d_12 (Conv2D)           (None, 12, 12, 96)        55392     \n",
            "_________________________________________________________________\n",
            "conv2d_13 (Conv2D)           (None, 10, 10, 96)        83040     \n",
            "_________________________________________________________________\n",
            "max_pooling2d_6 (MaxPooling2 (None, 5, 5, 96)          0         \n",
            "_________________________________________________________________\n",
            "conv2d_14 (Conv2D)           (None, 5, 5, 128)         110720    \n",
            "_________________________________________________________________\n",
            "conv2d_15 (Conv2D)           (None, 3, 3, 128)         147584    \n",
            "_________________________________________________________________\n",
            "max_pooling2d_7 (MaxPooling2 (None, 1, 1, 128)         0         \n",
            "_________________________________________________________________\n",
            "flatten_1 (Flatten)          (None, 128)               0         \n",
            "_________________________________________________________________\n",
            "dense_2 (Dense)              (None, 64)                8256      \n",
            "_________________________________________________________________\n",
            "dropout_1 (Dropout)          (None, 64)                0         \n",
            "_________________________________________________________________\n",
            "dense_3 (Dense)              (None, 7)                 455       \n",
            "=================================================================\n",
            "Total params: 470,439\n",
            "Trainable params: 470,439\n",
            "Non-trainable params: 0\n",
            "_________________________________________________________________\n",
            "None\n"
          ],
          "name": "stdout"
        }
      ]
    },
    {
      "cell_type": "code",
      "metadata": {
        "id": "Wid_gk2I7uQZ",
        "colab_type": "code",
        "colab": {
          "base_uri": "https://localhost:8080/",
          "height": 34
        },
        "outputId": "9ea627d2-c3f2-416f-fd89-903f7c39f244"
      },
      "source": [
        "print(X_train.shape[0]//128)"
      ],
      "execution_count": null,
      "outputs": [
        {
          "output_type": "stream",
          "text": [
            "224\n"
          ],
          "name": "stdout"
        }
      ]
    },
    {
      "cell_type": "code",
      "metadata": {
        "id": "o9Ug6Z1Y3uQe",
        "colab_type": "code",
        "colab": {}
      },
      "source": [
        "batch_size = 128\n",
        "epochs = 30\n",
        "\n",
        "model.compile(loss='binary_crossentropy',\n",
        "              optimizer='adam' ,\n",
        "              metrics=['accuracy'])\n",
        "\n",
        "\n",
        "steps_per_epoch = X_train.shape[0] // batch_size\n",
        "validation_steps = len((X_crossval, Y_crossval)) // batch_size"
      ],
      "execution_count": null,
      "outputs": []
    },
    {
      "cell_type": "code",
      "metadata": {
        "id": "WDNK1GIW3uQf",
        "colab_type": "code",
        "colab": {
          "base_uri": "https://localhost:8080/",
          "height": 1000
        },
        "outputId": "2803a34b-9bae-4ed9-e05a-6576b97aaaf8"
      },
      "source": [
        "history = model.fit_generator(datagen.flow(X_train, Y_train, batch_size=batch_size),\n",
        "                    steps_per_epoch=steps_per_epoch,\n",
        "                    callbacks= [callbacks.ModelCheckpoint(os.path.join('/content/drive/My Drive/TRF_FINAL_TASK','epoch_{epoch:02d}acc{val_accuracy:.4f}.h5'),monitor='val_accuracy', save_weights_only=False, save_best_only=False) ],\n",
        "                    validation_data=(X_crossval, Y_crossval),\n",
        "                    epochs = epochs, verbose = 1)"
      ],
      "execution_count": null,
      "outputs": [
        {
          "output_type": "stream",
          "text": [
            "WARNING:tensorflow:From <ipython-input-33-20730bf2a6fe>:5: Model.fit_generator (from tensorflow.python.keras.engine.training) is deprecated and will be removed in a future version.\n",
            "Instructions for updating:\n",
            "Please use Model.fit, which supports generators.\n",
            "Epoch 1/30\n",
            "224/224 [==============================] - 406s 2s/step - loss: 0.3998 - accuracy: 0.2394 - val_loss: 0.3891 - val_accuracy: 0.2493\n",
            "Epoch 2/30\n",
            "224/224 [==============================] - 402s 2s/step - loss: 0.3882 - accuracy: 0.2485 - val_loss: 0.3822 - val_accuracy: 0.2638\n",
            "Epoch 3/30\n",
            "224/224 [==============================] - 404s 2s/step - loss: 0.3627 - accuracy: 0.3315 - val_loss: 0.3337 - val_accuracy: 0.4084\n",
            "Epoch 4/30\n",
            "224/224 [==============================] - 405s 2s/step - loss: 0.3236 - accuracy: 0.4300 - val_loss: 0.3100 - val_accuracy: 0.4468\n",
            "Epoch 5/30\n",
            "224/224 [==============================] - 400s 2s/step - loss: 0.2980 - accuracy: 0.4929 - val_loss: 0.2857 - val_accuracy: 0.5053\n",
            "Epoch 6/30\n",
            "224/224 [==============================] - 403s 2s/step - loss: 0.2797 - accuracy: 0.5300 - val_loss: 0.2758 - val_accuracy: 0.5345\n",
            "Epoch 7/30\n",
            "224/224 [==============================] - 404s 2s/step - loss: 0.2625 - accuracy: 0.5683 - val_loss: 0.2707 - val_accuracy: 0.5446\n",
            "Epoch 8/30\n",
            "224/224 [==============================] - 401s 2s/step - loss: 0.2454 - accuracy: 0.6037 - val_loss: 0.2655 - val_accuracy: 0.5596\n",
            "Epoch 9/30\n",
            "224/224 [==============================] - 407s 2s/step - loss: 0.2285 - accuracy: 0.6366 - val_loss: 0.2636 - val_accuracy: 0.5646\n",
            "Epoch 10/30\n",
            "224/224 [==============================] - 407s 2s/step - loss: 0.2095 - accuracy: 0.6753 - val_loss: 0.2773 - val_accuracy: 0.5727\n",
            "Epoch 11/30\n",
            "224/224 [==============================] - 403s 2s/step - loss: 0.1894 - accuracy: 0.7108 - val_loss: 0.2891 - val_accuracy: 0.5696\n",
            "Epoch 12/30\n",
            "224/224 [==============================] - 405s 2s/step - loss: 0.1679 - accuracy: 0.7510 - val_loss: 0.3100 - val_accuracy: 0.5560\n",
            "Epoch 13/30\n",
            "224/224 [==============================] - 405s 2s/step - loss: 0.1499 - accuracy: 0.7811 - val_loss: 0.3097 - val_accuracy: 0.5755\n",
            "Epoch 14/30\n",
            "224/224 [==============================] - 402s 2s/step - loss: 0.1308 - accuracy: 0.8124 - val_loss: 0.3490 - val_accuracy: 0.5582\n",
            "Epoch 15/30\n",
            "224/224 [==============================] - 403s 2s/step - loss: 0.1150 - accuracy: 0.8410 - val_loss: 0.3572 - val_accuracy: 0.5599\n",
            "Epoch 16/30\n",
            "224/224 [==============================] - 405s 2s/step - loss: 0.1000 - accuracy: 0.8632 - val_loss: 0.3927 - val_accuracy: 0.5577\n",
            "Epoch 17/30\n",
            "224/224 [==============================] - 401s 2s/step - loss: 0.0881 - accuracy: 0.8839 - val_loss: 0.4110 - val_accuracy: 0.5655\n",
            "Epoch 18/30\n",
            "224/224 [==============================] - 404s 2s/step - loss: 0.0770 - accuracy: 0.9004 - val_loss: 0.4609 - val_accuracy: 0.5593\n",
            "Epoch 19/30\n",
            "224/224 [==============================] - 408s 2s/step - loss: 0.0720 - accuracy: 0.9087 - val_loss: 0.4849 - val_accuracy: 0.5596\n",
            "Epoch 20/30\n",
            "224/224 [==============================] - 402s 2s/step - loss: 0.0653 - accuracy: 0.9169 - val_loss: 0.5197 - val_accuracy: 0.5563\n",
            "Epoch 21/30\n",
            "224/224 [==============================] - 403s 2s/step - loss: 0.0556 - accuracy: 0.9300 - val_loss: 0.5376 - val_accuracy: 0.5655\n",
            "Epoch 22/30\n",
            "224/224 [==============================] - 403s 2s/step - loss: 0.0547 - accuracy: 0.9302 - val_loss: 0.5366 - val_accuracy: 0.5552\n",
            "Epoch 23/30\n",
            "224/224 [==============================] - 403s 2s/step - loss: 0.0491 - accuracy: 0.9399 - val_loss: 0.5734 - val_accuracy: 0.5621\n",
            "Epoch 24/30\n",
            "224/224 [==============================] - 405s 2s/step - loss: 0.0450 - accuracy: 0.9454 - val_loss: 0.6246 - val_accuracy: 0.5671\n",
            "Epoch 25/30\n",
            "224/224 [==============================] - 401s 2s/step - loss: 0.0430 - accuracy: 0.9474 - val_loss: 0.5650 - val_accuracy: 0.5627\n",
            "Epoch 26/30\n",
            "224/224 [==============================] - 400s 2s/step - loss: 0.0409 - accuracy: 0.9515 - val_loss: 0.6278 - val_accuracy: 0.5529\n",
            "Epoch 27/30\n",
            "224/224 [==============================] - 401s 2s/step - loss: 0.0402 - accuracy: 0.9526 - val_loss: 0.6142 - val_accuracy: 0.5624\n",
            "Epoch 28/30\n",
            "224/224 [==============================] - 401s 2s/step - loss: 0.0351 - accuracy: 0.9593 - val_loss: 0.6736 - val_accuracy: 0.5758\n",
            "Epoch 29/30\n",
            "224/224 [==============================] - 398s 2s/step - loss: 0.0367 - accuracy: 0.9572 - val_loss: 0.6604 - val_accuracy: 0.5733\n",
            "Epoch 30/30\n",
            "224/224 [==============================] - 400s 2s/step - loss: 0.0339 - accuracy: 0.9619 - val_loss: 0.6465 - val_accuracy: 0.5627\n"
          ],
          "name": "stdout"
        }
      ]
    },
    {
      "cell_type": "code",
      "metadata": {
        "id": "gCj3z2273uQh",
        "colab_type": "code",
        "colab": {
          "base_uri": "https://localhost:8080/",
          "height": 573
        },
        "outputId": "023332f8-667c-4f22-8de7-f56cd2c75f2c"
      },
      "source": [
        "plt.plot(history.history['accuracy'])\n",
        "plt.plot(history.history['val_accuracy'])\n",
        "plt.title('model accuracy')\n",
        "plt.ylabel('accuracy')\n",
        "plt.xlabel('epoch')\n",
        "plt.legend(['train', 'test'], loc='upper left')\n",
        "plt.savefig('/content/drive/My Drive/TRF_FINAL_TASK/Accuracy.png')\n",
        "plt.show()\n",
        "#plt.close()\n",
        "\n",
        "# summarize history for loss\n",
        "plt.plot(history.history['loss'])\n",
        "plt.plot(history.history['val_loss'])\n",
        "plt.title('model loss')\n",
        "plt.ylabel('loss')\n",
        "plt.xlabel('epoch')\n",
        "plt.legend(['train', 'test'], loc='upper left')\n",
        "plt.savefig('/content/drive/My Drive/TRF_FINAL_TASK/Losses.png')\n",
        "plt.show()\n",
        "#plt.close()"
      ],
      "execution_count": null,
      "outputs": [
        {
          "output_type": "display_data",
          "data": {
            "image/png": "[encoded data removed]",
            "text/plain": [
              "<Figure size 432x288 with 1 Axes>"
            ]
          },
          "metadata": {
            "tags": [],
            "needs_background": "light"
          }
        },
        {
          "output_type": "display_data",
          "data": {
            "image/png": "[encoded data removed]",
            "text/plain": [
              "<Figure size 432x288 with 1 Axes>"
            ]
          },
          "metadata": {
            "tags": [],
            "needs_background": "light"
          }
        }
      ]
    },
    {
      "cell_type": "code",
      "metadata": {
        "id": "Kt5PYG2-HcII",
        "colab_type": "code",
        "colab": {}
      },
      "source": [
        ""
      ],
      "execution_count": null,
      "outputs": []
    }
  ]
}